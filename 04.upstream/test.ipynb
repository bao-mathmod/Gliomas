{
 "cells": [
  {
   "cell_type": "code",
   "execution_count": null,
   "id": "d09af6b8",
   "metadata": {
    "vscode": {
     "languageId": "r"
    }
   },
   "outputs": [
    {
     "name": "stderr",
     "output_type": "stream",
     "text": [
      "Warning message:\n",
      "“package ‘Seurat’ was built under R version 4.4.3”\n",
      "Loading required package: SeuratObject\n",
      "\n",
      "Warning message:\n",
      "“package ‘SeuratObject’ was built under R version 4.4.3”\n",
      "Loading required package: sp\n",
      "\n",
      "Warning message:\n",
      "“package ‘sp’ was built under R version 4.4.3”\n"
     ]
    },
    {
     "name": "stderr",
     "output_type": "stream",
     "text": [
      "\n",
      "Attaching package: ‘SeuratObject’\n",
      "\n",
      "\n",
      "The following objects are masked from ‘package:base’:\n",
      "\n",
      "    intersect, t\n",
      "\n",
      "\n",
      "Warning message:\n",
      "“package ‘tidyverse’ was built under R version 4.4.3”\n",
      "Warning message:\n",
      "“package ‘ggplot2’ was built under R version 4.4.3”\n",
      "Warning message:\n",
      "“package ‘tibble’ was built under R version 4.4.3”\n",
      "Warning message:\n",
      "“package ‘tidyr’ was built under R version 4.4.3”\n",
      "Warning message:\n",
      "“package ‘readr’ was built under R version 4.4.3”\n",
      "Warning message:\n",
      "“package ‘purrr’ was built under R version 4.4.3”\n",
      "Warning message:\n",
      "“package ‘dplyr’ was built under R version 4.4.3”\n",
      "Warning message:\n",
      "“package ‘stringr’ was built under R version 4.4.3”\n",
      "Warning message:\n",
      "“package ‘forcats’ was built under R version 4.4.3”\n",
      "Warning message:\n",
      "“package ‘lubridate’ was built under R version 4.4.3”\n",
      "── \u001b[1mAttaching core tidyverse packages\u001b[22m ──────────────────────── tidyverse 2.0.0 ──\n",
      "\u001b[32m✔\u001b[39m \u001b[34mdplyr    \u001b[39m 1.1.4     \u001b[32m✔\u001b[39m \u001b[34mreadr    \u001b[39m 2.1.5\n",
      "\u001b[32m✔\u001b[39m \u001b[34mforcats  \u001b[39m 1.0.1     \u001b[32m✔\u001b[39m \u001b[34mstringr  \u001b[39m 1.5.2\n",
      "\u001b[32m✔\u001b[39m \u001b[34mggplot2  \u001b[39m 4.0.0     \u001b[32m✔\u001b[39m \u001b[34mtibble   \u001b[39m 3.3.0\n",
      "\u001b[32m✔\u001b[39m \u001b[34mlubridate\u001b[39m 1.9.4     \u001b[32m✔\u001b[39m \u001b[34mtidyr    \u001b[39m 1.3.1\n",
      "\u001b[32m✔\u001b[39m \u001b[34mpurrr    \u001b[39m 1.1.0     \n",
      "── \u001b[1mConflicts\u001b[22m ────────────────────────────────────────── tidyverse_conflicts() ──\n",
      "\u001b[31m✖\u001b[39m \u001b[34mdplyr\u001b[39m::\u001b[32mfilter()\u001b[39m masks \u001b[34mstats\u001b[39m::filter()\n",
      "\u001b[31m✖\u001b[39m \u001b[34mdplyr\u001b[39m::\u001b[32mlag()\u001b[39m    masks \u001b[34mstats\u001b[39m::lag()\n",
      "\u001b[36mℹ\u001b[39m Use the conflicted package (\u001b[3m\u001b[34m<http://conflicted.r-lib.org/>\u001b[39m\u001b[23m) to force all conflicts to become errors\n"
     ]
    }
   ],
   "source": [
    "# 2. Load the libraries\n",
    "library(Seurat)\n",
    "library(tidyverse)\n",
    "library(presto)"
   ]
  },
  {
   "cell_type": "code",
   "execution_count": null,
   "id": "14a85859",
   "metadata": {
    "vscode": {
     "languageId": "r"
    }
   },
   "outputs": [],
   "source": [
    "integrated <- readRDS(\"/mnt/18T/chibao/gliomas/data/upstream/scRNA/set1/integrated_v5_optimized/scrna_integrated_enrich.rds\")\n",
    "integrated\n",
    "integrated@meta.data |> head()"
   ]
  },
  {
   "cell_type": "code",
   "execution_count": null,
   "id": "b19bb680",
   "metadata": {
    "vscode": {
     "languageId": "r"
    }
   },
   "outputs": [],
   "source": [
    "integrated <- PrepSCTFindMarkers(integrated, assay = \"SCT\", verbose = TRUE)"
   ]
  },
  {
   "cell_type": "code",
   "execution_count": null,
   "id": "51c3e9f0",
   "metadata": {
    "vscode": {
     "languageId": "r"
    }
   },
   "outputs": [],
   "source": [
    "all_markers <- FindAllMarkers(\n",
    "  object = integrated,\n",
    "  assay = \"SCT\",\n",
    "  only.pos = TRUE,\n",
    "  min.pct = 0.25,\n",
    "  logfc.threshold = 0.25,\n",
    "  test.use = \"wilcox\"\n",
    ")"
   ]
  }
 ],
 "metadata": {
  "kernelspec": {
   "display_name": "sc_bao",
   "language": "R",
   "name": "r_bio"
  },
  "language_info": {
   "codemirror_mode": "r",
   "file_extension": ".r",
   "mimetype": "text/x-r-source",
   "name": "R",
   "pygments_lexer": "r",
   "version": "4.4.2"
  }
 },
 "nbformat": 4,
 "nbformat_minor": 5
}
