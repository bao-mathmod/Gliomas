{
 "cells": [
  {
   "cell_type": "code",
   "execution_count": 1,
   "id": "fb4adb77",
   "metadata": {
    "vscode": {
     "languageId": "r"
    }
   },
   "outputs": [
    {
     "name": "stderr",
     "output_type": "stream",
     "text": [
      "Warning message:\n",
      "“package ‘Seurat’ was built under R version 4.4.3”\n",
      "Loading required package: SeuratObject\n",
      "\n",
      "Warning message:\n",
      "“package ‘SeuratObject’ was built under R version 4.4.3”\n",
      "Loading required package: sp\n",
      "\n",
      "Warning message:\n",
      "“package ‘sp’ was built under R version 4.4.3”\n"
     ]
    },
    {
     "name": "stderr",
     "output_type": "stream",
     "text": [
      "\n",
      "Attaching package: ‘SeuratObject’\n",
      "\n",
      "\n",
      "The following objects are masked from ‘package:base’:\n",
      "\n",
      "    intersect, t\n",
      "\n",
      "\n",
      "Warning message:\n",
      "“package ‘Signac’ was built under R version 4.4.3”\n"
     ]
    }
   ],
   "source": [
    "library(Seurat)\n",
    "library(Signac)"
   ]
  },
  {
   "cell_type": "code",
   "execution_count": 2,
   "id": "4e9b5c2b",
   "metadata": {
    "vscode": {
     "languageId": "r"
    }
   },
   "outputs": [],
   "source": [
    "seurat_object <- readRDS(\"/mnt/18T/chibao/gliomas/data/avail/GSE229779/seurat_obj/GSE229779_seuratObj.RDS\")"
   ]
  },
  {
   "cell_type": "code",
   "execution_count": 3,
   "id": "83ba378e",
   "metadata": {
    "vscode": {
     "languageId": "r"
    }
   },
   "outputs": [
    {
     "data": {
      "text/html": [
       "<table class=\"dataframe\">\n",
       "<caption>A data.frame: 6 × 13</caption>\n",
       "<thead>\n",
       "\t<tr><th></th><th scope=col>Neftel_State</th><th scope=col>cellID</th><th scope=col>nCount_RNA</th><th scope=col>nFeature_RNA</th><th scope=col>nCount_SCT</th><th scope=col>nFeature_SCT</th><th scope=col>percent.mt</th><th scope=col>CytoTRACE.Score</th><th scope=col>S.Score</th><th scope=col>G2M.Score</th><th scope=col>CellType</th><th scope=col>patientID</th><th scope=col>Occurence</th></tr>\n",
       "\t<tr><th></th><th scope=col>&lt;chr&gt;</th><th scope=col>&lt;chr&gt;</th><th scope=col>&lt;dbl&gt;</th><th scope=col>&lt;int&gt;</th><th scope=col>&lt;dbl&gt;</th><th scope=col>&lt;int&gt;</th><th scope=col>&lt;dbl&gt;</th><th scope=col>&lt;dbl&gt;</th><th scope=col>&lt;dbl&gt;</th><th scope=col>&lt;dbl&gt;</th><th scope=col>&lt;fct&gt;</th><th scope=col>&lt;chr&gt;</th><th scope=col>&lt;chr&gt;</th></tr>\n",
       "</thead>\n",
       "<tbody>\n",
       "\t<tr><th scope=row>GBM21_AAACCTGAGTCTTGCA</th><td>MES           </td><td>GBM21_AAACCTGAGTCTTGCA</td><td> 6212</td><td>2720</td><td>7703</td><td>2723</td><td>5.006439</td><td>0.56056056</td><td>-0.04818526</td><td>-0.05707705</td><td>Neoplastic</td><td>GBM21</td><td>Recurrence</td></tr>\n",
       "\t<tr><th scope=row>GBM21_AAACCTGCAGGCGATA</th><td>Non-Neoplastic</td><td>GBM21_AAACCTGCAGGCGATA</td><td>13423</td><td>3154</td><td>9125</td><td>3114</td><td>7.978842</td><td>0.11711712</td><td>-0.14267667</td><td>-0.11060229</td><td>Myeloid   </td><td>GBM21</td><td>Recurrence</td></tr>\n",
       "\t<tr><th scope=row>GBM21_AAACCTGGTGCCTTGG</th><td>NPC           </td><td>GBM21_AAACCTGGTGCCTTGG</td><td> 8064</td><td>3279</td><td>8261</td><td>3276</td><td>4.092262</td><td>0.68768769</td><td>-0.10337407</td><td>-0.09553425</td><td>Neoplastic</td><td>GBM21</td><td>Recurrence</td></tr>\n",
       "\t<tr><th scope=row>GBM21_AAACCTGGTGGGTATG</th><td>Non-Neoplastic</td><td>GBM21_AAACCTGGTGGGTATG</td><td>12509</td><td>3269</td><td>9241</td><td>3258</td><td>7.778400</td><td>0.07307307</td><td>-0.13711901</td><td>-0.09291838</td><td>Myeloid   </td><td>GBM21</td><td>Recurrence</td></tr>\n",
       "\t<tr><th scope=row>GBM21_AAACCTGTCTACTTAC</th><td>Non-Neoplastic</td><td>GBM21_AAACCTGTCTACTTAC</td><td>11672</td><td>2967</td><td>9100</td><td>2966</td><td>8.062029</td><td>0.07307307</td><td>-0.10369336</td><td>-0.06911767</td><td>Myeloid   </td><td>GBM21</td><td>Recurrence</td></tr>\n",
       "\t<tr><th scope=row>GBM21_AAACCTGTCTCTTGAT</th><td>MES           </td><td>GBM21_AAACCTGTCTCTTGAT</td><td> 2793</td><td>1236</td><td>7921</td><td>1501</td><td>5.406373</td><td>0.02902903</td><td>-0.09967519</td><td>-0.08093183</td><td>Neoplastic</td><td>GBM21</td><td>Recurrence</td></tr>\n",
       "</tbody>\n",
       "</table>\n"
      ],
      "text/latex": [
       "A data.frame: 6 × 13\n",
       "\\begin{tabular}{r|lllllllllllll}\n",
       "  & Neftel\\_State & cellID & nCount\\_RNA & nFeature\\_RNA & nCount\\_SCT & nFeature\\_SCT & percent.mt & CytoTRACE.Score & S.Score & G2M.Score & CellType & patientID & Occurence\\\\\n",
       "  & <chr> & <chr> & <dbl> & <int> & <dbl> & <int> & <dbl> & <dbl> & <dbl> & <dbl> & <fct> & <chr> & <chr>\\\\\n",
       "\\hline\n",
       "\tGBM21\\_AAACCTGAGTCTTGCA & MES            & GBM21\\_AAACCTGAGTCTTGCA &  6212 & 2720 & 7703 & 2723 & 5.006439 & 0.56056056 & -0.04818526 & -0.05707705 & Neoplastic & GBM21 & Recurrence\\\\\n",
       "\tGBM21\\_AAACCTGCAGGCGATA & Non-Neoplastic & GBM21\\_AAACCTGCAGGCGATA & 13423 & 3154 & 9125 & 3114 & 7.978842 & 0.11711712 & -0.14267667 & -0.11060229 & Myeloid    & GBM21 & Recurrence\\\\\n",
       "\tGBM21\\_AAACCTGGTGCCTTGG & NPC            & GBM21\\_AAACCTGGTGCCTTGG &  8064 & 3279 & 8261 & 3276 & 4.092262 & 0.68768769 & -0.10337407 & -0.09553425 & Neoplastic & GBM21 & Recurrence\\\\\n",
       "\tGBM21\\_AAACCTGGTGGGTATG & Non-Neoplastic & GBM21\\_AAACCTGGTGGGTATG & 12509 & 3269 & 9241 & 3258 & 7.778400 & 0.07307307 & -0.13711901 & -0.09291838 & Myeloid    & GBM21 & Recurrence\\\\\n",
       "\tGBM21\\_AAACCTGTCTACTTAC & Non-Neoplastic & GBM21\\_AAACCTGTCTACTTAC & 11672 & 2967 & 9100 & 2966 & 8.062029 & 0.07307307 & -0.10369336 & -0.06911767 & Myeloid    & GBM21 & Recurrence\\\\\n",
       "\tGBM21\\_AAACCTGTCTCTTGAT & MES            & GBM21\\_AAACCTGTCTCTTGAT &  2793 & 1236 & 7921 & 1501 & 5.406373 & 0.02902903 & -0.09967519 & -0.08093183 & Neoplastic & GBM21 & Recurrence\\\\\n",
       "\\end{tabular}\n"
      ],
      "text/markdown": [
       "\n",
       "A data.frame: 6 × 13\n",
       "\n",
       "| <!--/--> | Neftel_State &lt;chr&gt; | cellID &lt;chr&gt; | nCount_RNA &lt;dbl&gt; | nFeature_RNA &lt;int&gt; | nCount_SCT &lt;dbl&gt; | nFeature_SCT &lt;int&gt; | percent.mt &lt;dbl&gt; | CytoTRACE.Score &lt;dbl&gt; | S.Score &lt;dbl&gt; | G2M.Score &lt;dbl&gt; | CellType &lt;fct&gt; | patientID &lt;chr&gt; | Occurence &lt;chr&gt; |\n",
       "|---|---|---|---|---|---|---|---|---|---|---|---|---|---|\n",
       "| GBM21_AAACCTGAGTCTTGCA | MES            | GBM21_AAACCTGAGTCTTGCA |  6212 | 2720 | 7703 | 2723 | 5.006439 | 0.56056056 | -0.04818526 | -0.05707705 | Neoplastic | GBM21 | Recurrence |\n",
       "| GBM21_AAACCTGCAGGCGATA | Non-Neoplastic | GBM21_AAACCTGCAGGCGATA | 13423 | 3154 | 9125 | 3114 | 7.978842 | 0.11711712 | -0.14267667 | -0.11060229 | Myeloid    | GBM21 | Recurrence |\n",
       "| GBM21_AAACCTGGTGCCTTGG | NPC            | GBM21_AAACCTGGTGCCTTGG |  8064 | 3279 | 8261 | 3276 | 4.092262 | 0.68768769 | -0.10337407 | -0.09553425 | Neoplastic | GBM21 | Recurrence |\n",
       "| GBM21_AAACCTGGTGGGTATG | Non-Neoplastic | GBM21_AAACCTGGTGGGTATG | 12509 | 3269 | 9241 | 3258 | 7.778400 | 0.07307307 | -0.13711901 | -0.09291838 | Myeloid    | GBM21 | Recurrence |\n",
       "| GBM21_AAACCTGTCTACTTAC | Non-Neoplastic | GBM21_AAACCTGTCTACTTAC | 11672 | 2967 | 9100 | 2966 | 8.062029 | 0.07307307 | -0.10369336 | -0.06911767 | Myeloid    | GBM21 | Recurrence |\n",
       "| GBM21_AAACCTGTCTCTTGAT | MES            | GBM21_AAACCTGTCTCTTGAT |  2793 | 1236 | 7921 | 1501 | 5.406373 | 0.02902903 | -0.09967519 | -0.08093183 | Neoplastic | GBM21 | Recurrence |\n",
       "\n"
      ],
      "text/plain": [
       "                       Neftel_State   cellID                 nCount_RNA\n",
       "GBM21_AAACCTGAGTCTTGCA MES            GBM21_AAACCTGAGTCTTGCA  6212     \n",
       "GBM21_AAACCTGCAGGCGATA Non-Neoplastic GBM21_AAACCTGCAGGCGATA 13423     \n",
       "GBM21_AAACCTGGTGCCTTGG NPC            GBM21_AAACCTGGTGCCTTGG  8064     \n",
       "GBM21_AAACCTGGTGGGTATG Non-Neoplastic GBM21_AAACCTGGTGGGTATG 12509     \n",
       "GBM21_AAACCTGTCTACTTAC Non-Neoplastic GBM21_AAACCTGTCTACTTAC 11672     \n",
       "GBM21_AAACCTGTCTCTTGAT MES            GBM21_AAACCTGTCTCTTGAT  2793     \n",
       "                       nFeature_RNA nCount_SCT nFeature_SCT percent.mt\n",
       "GBM21_AAACCTGAGTCTTGCA 2720         7703       2723         5.006439  \n",
       "GBM21_AAACCTGCAGGCGATA 3154         9125       3114         7.978842  \n",
       "GBM21_AAACCTGGTGCCTTGG 3279         8261       3276         4.092262  \n",
       "GBM21_AAACCTGGTGGGTATG 3269         9241       3258         7.778400  \n",
       "GBM21_AAACCTGTCTACTTAC 2967         9100       2966         8.062029  \n",
       "GBM21_AAACCTGTCTCTTGAT 1236         7921       1501         5.406373  \n",
       "                       CytoTRACE.Score S.Score     G2M.Score   CellType  \n",
       "GBM21_AAACCTGAGTCTTGCA 0.56056056      -0.04818526 -0.05707705 Neoplastic\n",
       "GBM21_AAACCTGCAGGCGATA 0.11711712      -0.14267667 -0.11060229 Myeloid   \n",
       "GBM21_AAACCTGGTGCCTTGG 0.68768769      -0.10337407 -0.09553425 Neoplastic\n",
       "GBM21_AAACCTGGTGGGTATG 0.07307307      -0.13711901 -0.09291838 Myeloid   \n",
       "GBM21_AAACCTGTCTACTTAC 0.07307307      -0.10369336 -0.06911767 Myeloid   \n",
       "GBM21_AAACCTGTCTCTTGAT 0.02902903      -0.09967519 -0.08093183 Neoplastic\n",
       "                       patientID Occurence \n",
       "GBM21_AAACCTGAGTCTTGCA GBM21     Recurrence\n",
       "GBM21_AAACCTGCAGGCGATA GBM21     Recurrence\n",
       "GBM21_AAACCTGGTGCCTTGG GBM21     Recurrence\n",
       "GBM21_AAACCTGGTGGGTATG GBM21     Recurrence\n",
       "GBM21_AAACCTGTCTACTTAC GBM21     Recurrence\n",
       "GBM21_AAACCTGTCTCTTGAT GBM21     Recurrence"
      ]
     },
     "metadata": {},
     "output_type": "display_data"
    }
   ],
   "source": [
    "seurat_object@meta.data |> head()"
   ]
  }
 ],
 "metadata": {
  "kernelspec": {
   "display_name": "R",
   "language": "R",
   "name": "ir"
  },
  "language_info": {
   "codemirror_mode": "r",
   "file_extension": ".r",
   "mimetype": "text/x-r-source",
   "name": "R",
   "pygments_lexer": "r",
   "version": "4.4.2"
  }
 },
 "nbformat": 4,
 "nbformat_minor": 5
}
